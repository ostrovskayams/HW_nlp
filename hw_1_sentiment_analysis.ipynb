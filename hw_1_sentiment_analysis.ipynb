{
 "cells": [
  {
   "cell_type": "code",
   "execution_count": 17,
   "id": "efb9203e",
   "metadata": {},
   "outputs": [],
   "source": [
    "import nltk\n",
    "from nltk.tokenize import word_tokenize\n",
    "from collections import Counter\n",
    "import pymorphy2\n",
    "from pymorphy2 import MorphAnalyzer\n",
    "import sklearn.metrics\n",
    "\n",
    "morph = MorphAnalyzer()"
   ]
  },
  {
   "cell_type": "markdown",
   "id": "cdf7e497",
   "metadata": {},
   "source": [
    "text_p - файл с 30 положительными отзывами; text_n - файл с 30 отрицательными отзывами; test - 10 отзывов для тестирования. Данные я закопипастила"
   ]
  },
  {
   "cell_type": "code",
   "execution_count": 8,
   "id": "a332d64d",
   "metadata": {},
   "outputs": [],
   "source": [
    "with open('reviews+.txt', 'r', encoding='utf-8') as f1:\n",
    "    text_p = f1.read().split('\\n')\n",
    "\n",
    "with open('reviews-.txt', 'r', encoding='utf-8') as f2:\n",
    "    text_n = f2.read().split('\\n')\n",
    "    \n",
    "with open('test.txt', 'r', encoding='utf-8') as f3:\n",
    "  test = f3.read().split('\\n')"
   ]
  },
  {
   "cell_type": "markdown",
   "id": "abc24fba",
   "metadata": {},
   "source": [
    "Функция get_lemmas обрабатывает отзыв (токенизация, нижний регистр, лемматизация) на выходе получает список лемм рассматриваемого отзыва"
   ]
  },
  {
   "cell_type": "code",
   "execution_count": 9,
   "id": "bfa73f08",
   "metadata": {},
   "outputs": [],
   "source": [
    "def get_lemmas(data):\n",
    "  lemmas = []\n",
    "  for row in data:\n",
    "    t = word_tokenize(row)\n",
    "    words = [w.lower() for w in t if w.isalpha()]\n",
    "    for w in words:\n",
    "      w = morph.parse(w)\n",
    "      lemmas.append(w[0].normal_form)\n",
    "  return(lemmas)"
   ]
  },
  {
   "cell_type": "code",
   "execution_count": 10,
   "id": "f20cc4a2",
   "metadata": {},
   "outputs": [],
   "source": [
    "pos = Counter(get_lemmas(text_p))\n",
    "\n",
    "neg = Counter(get_lemmas(text_n))"
   ]
  },
  {
   "cell_type": "markdown",
   "id": "e7e1f871",
   "metadata": {},
   "source": [
    "pos_freq и neg_freq - списки лемм, которые втсречаются в отзывах чаще 2 раз"
   ]
  },
  {
   "cell_type": "code",
   "execution_count": 11,
   "id": "c9cfa8cd",
   "metadata": {},
   "outputs": [],
   "source": [
    "pos_freq = []\n",
    "for i in pos.keys():\n",
    "  if pos[i] > 2:\n",
    "    pos_freq.append(i)\n",
    "    \n",
    "neg_freq = []\n",
    "for i in neg.keys():\n",
    "  if neg[i] > 2:\n",
    "    neg_freq.append(i)"
   ]
  },
  {
   "cell_type": "markdown",
   "id": "ca62a5b0",
   "metadata": {},
   "source": [
    "Сравниваю 2 списка и оставляю в каждом только уникальные для его тональности леммы"
   ]
  },
  {
   "cell_type": "code",
   "execution_count": 12,
   "id": "ea9a4871",
   "metadata": {},
   "outputs": [],
   "source": [
    "for i in pos_freq:\n",
    "  if i in neg_freq:\n",
    "    pos_freq.remove(i)\n",
    "    neg_freq.remove(i)"
   ]
  },
  {
   "cell_type": "markdown",
   "id": "68ef7291",
   "metadata": {},
   "source": [
    "Функция get_result сначала обрабатывает текст отзыва, а потом определяет его тональность"
   ]
  },
  {
   "cell_type": "code",
   "execution_count": 13,
   "id": "ed0b154a",
   "metadata": {},
   "outputs": [],
   "source": [
    "def get_result(data):\n",
    "  lemmas = []\n",
    "  d = word_tokenize(data)\n",
    "  words = [w.lower() for w in d if w.isalpha()]\n",
    "  for w in words:\n",
    "    w = morph.parse(w)\n",
    "    lemmas.append(w[0].normal_form)\n",
    "  lemmas = Counter(lemmas)\n",
    "  p = 0\n",
    "  n = 0\n",
    "  for i in lemmas.keys():\n",
    "    if i in pos_freq:\n",
    "      p += lemmas[i]\n",
    "    elif i in neg_freq:\n",
    "      n += lemmas[i]\n",
    "  if n > p:\n",
    "    return(\"negative\")\n",
    "  elif n < p:\n",
    "    return(\"positive\")\n",
    "  else:\n",
    "    return(\"neutral\")"
   ]
  },
  {
   "cell_type": "markdown",
   "id": "b6b477c2",
   "metadata": {},
   "source": [
    "Считаю accuracy"
   ]
  },
  {
   "cell_type": "code",
   "execution_count": 14,
   "id": "99b9159d",
   "metadata": {},
   "outputs": [],
   "source": [
    "y_true = ['positive', 'positive', 'positive', 'positive', 'positive', 'negative', 'negative', 'negative', 'negative', 'negative']\n",
    "y_pred = []\n",
    "\n",
    "for row in test:\n",
    "  y_pred.append(get_result(row))"
   ]
  },
  {
   "cell_type": "code",
   "execution_count": 16,
   "id": "bdf7a128",
   "metadata": {},
   "outputs": [
    {
     "data": {
      "text/plain": [
       "0.5"
      ]
     },
     "execution_count": 16,
     "metadata": {},
     "output_type": "execute_result"
    }
   ],
   "source": [
    "acc = sklearn.metrics.accuracy_score(y_true, y_pred)\n",
    "acc"
   ]
  },
  {
   "cell_type": "markdown",
   "id": "a29c708f",
   "metadata": {},
   "source": [
    "Accuracy получилась маленькой, что можно сделать:\n",
    "- на этапе начальной обработки текста отзыва убрать стоп-слова\n",
    "- учитываь не отдельные леммы, а биграммы и триграммы, так как, например, для отрицательных отзывов важно учитывать отрицательную форму глагола (НЕ + глагол), а не частицу и глагол по отдельности\n",
    "- присвоить некоторым словам бОльший вес при подсчете переменных p и n (например, слово \"обожаю\" явно для нас ценнее, чем слово \"фильм\")"
   ]
  }
 ],
 "metadata": {
  "kernelspec": {
   "display_name": "Python 3 (ipykernel)",
   "language": "python",
   "name": "python3"
  },
  "language_info": {
   "codemirror_mode": {
    "name": "ipython",
    "version": 3
   },
   "file_extension": ".py",
   "mimetype": "text/x-python",
   "name": "python",
   "nbconvert_exporter": "python",
   "pygments_lexer": "ipython3",
   "version": "3.9.5"
  }
 },
 "nbformat": 4,
 "nbformat_minor": 5
}
